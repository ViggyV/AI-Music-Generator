{
 "cells": [
  {
   "cell_type": "code",
   "execution_count": null,
   "metadata": {},
   "outputs": [],
   "source": [
    "#!/usr/bin/env python\n",
    "\n",
    "#\n",
    "# [encode.py]\n",
    "#\n",
    "# Encodes a WAV file into a PNG image.\n",
    "# Copyright (C) 2018, Liam Schumm\n",
    "#\n",
    "\n",
    "import numpy\n",
    "import math\n",
    "from PIL import Image\n",
    "from scipy.io.wavfile import read, write\n",
    "\n",
    "# read the WAV data\n",
    "wav_in = read(\"/Users/viggy/Downloads/Heifetz Bach Chaconne.wav\")\n",
    "wav_data = list(wav_in[1])\n",
    "\n",
    "png_data = []\n",
    "for d in wav_data:\n",
    "    # split all 16-bit integers in WAV file to 2x 8 bit integers;\n",
    "    # 1 16 bit int per pixel\n",
    "    d_1 = (((d[0] >> 8) & 0xff), d[0] & 0xff, 0)\n",
    "    d_2 = (((d[1] >> 8) & 0xff), d[1] & 0xff, 0)\n",
    "    png_data.append(d_1)\n",
    "    png_data.append(d_2)\n",
    "\n",
    "# ending indicator pixel uses the green channel\n",
    "# (green channel set to 0 for all data pixels)\n",
    "png_data += [(255, 255, 255)]\n",
    "\n",
    "# find a roughly square size of output image\n",
    "n = len(png_data)\n",
    "x = math.floor(math.sqrt(n))\n",
    "y = x + math.ceil((n - x ** 2) / x)\n",
    "\n",
    "# output the PNG image\n",
    "img = Image.new('RGB', (int(x), int(y)), color = 'white')\n",
    "img.putdata(png_data)\n",
    "img.save(\"out.png\")\n"
   ]
  },
  {
   "cell_type": "code",
   "execution_count": null,
   "metadata": {},
   "outputs": [],
   "source": []
  }
 ],
 "metadata": {
  "kernelspec": {
   "display_name": "Python 3",
   "language": "python",
   "name": "python3"
  },
  "language_info": {
   "codemirror_mode": {
    "name": "ipython",
    "version": 3
   },
   "file_extension": ".py",
   "mimetype": "text/x-python",
   "name": "python",
   "nbconvert_exporter": "python",
   "pygments_lexer": "ipython3",
   "version": "3.7.3"
  }
 },
 "nbformat": 4,
 "nbformat_minor": 2
}
