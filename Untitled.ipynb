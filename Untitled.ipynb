{
 "cells": [
  {
   "cell_type": "code",
   "execution_count": 1,
   "metadata": {},
   "outputs": [],
   "source": [
    "import tensorflow as tf\n",
    "import tensorflow_datasets as tfds\n",
    "import datetime #to log times for each step\n",
    "import matplotlib.pyplot as plt #showing the results through \n",
    "import numpy as np#matrix math\n",
    "import matplotlib.pyplot as plt"
   ]
  },
  {
   "cell_type": "code",
   "execution_count": 2,
   "metadata": {},
   "outputs": [],
   "source": [
    "musicFile=\"/Users/viggy/Documents/GitHub/AI-Music-Generator/ViolinMIDI\""
   ]
  },
  {
   "cell_type": "code",
   "execution_count": 3,
   "metadata": {},
   "outputs": [],
   "source": [
    "import glob\n",
    "filenames=glob.glob(\"*.mid\")\n",
    "test_file=\"/Users/viggy/Documents/GitHub/AI-Music-Generator/ViolinMIDI/BachChaconne.png\""
   ]
  },
  {
   "cell_type": "code",
   "execution_count": 4,
   "metadata": {},
   "outputs": [],
   "source": [
    "def discriminator(input_music, passes=False):\n",
    "    if(passes):\n",
    "        tf.get_variables_scope().reuse_variables()\n",
    "    #First Convoultion Block\n",
    "    #matrix layer one\n",
    "    layer_w1=tf.get_variable('layer_w1',[5,5,1,32],initializer=truncated_normal_initializer(stddev=0.02))\n",
    "    #creates the bias for this layer to improve convergence\n",
    "    layer_b1=tf.get_variable('layer_b1',[32],initializer=tf.constant_initializer(0))\n",
    "    \n",
    "    layer1=tf.nn.conv2d(input_music,filter=layer_w1,strides=[1,1,1,1], padding='SAME')\n",
    "    layer1=layer1+layer_b1\n",
    "    layer1=tf.nn.relu(layer1)\n",
    "    \n",
    "    #or max pooling\n",
    "    layer1=tf.nn.avg_pool(layer1,ksize=[1,2,2,1],strides=[1,2,2,1],padding='SAME')\n",
    "    \n",
    "    #layer2\n",
    "    layer_w2=tf.get_variable('layer_w2',[5,5,32,64],initializer=truncated_normal_initializer(stddev=0.02))\n",
    "    layer_b2=tf.get_variable('layer_2',[64],initializer=tf.constant_initializer(0))\n",
    "    \n",
    "    layer2=tf.nn.conv2d(layer1,filter=layer_w2,strides=[1,1,1,1], padding='SAME')\n",
    "    layer2=layer2+layer_b2\n",
    "    layer2=tf.nn.relu(layer2)\n",
    "    \n",
    "    #or max pooling\n",
    "    layer2=tf.nn.avg_pool(layer2,ksize=[1,2,2,1],strides=[1,2,2,1],padding='SAME')\n",
    "                          \n",
    "    layer_w3=tf.get_variable('layer_w3',[7*7*64,1024],initializer=truncated_normal_initializer(stddev=0.02))\n",
    "    layer_b3=tf.get_variable('layer_b3',[1024],initializer=tf.constant_initializer(0))\n",
    "    \n",
    "    layer3=tf.reshape(layer2,[-1,7*7*64])\n",
    "    layer3=tf.matmul(layer3,layer_w3)                     \n",
    "    layer3=layer3+layer_b3\n",
    "    layer3=tf.nn.relu(layer3)\n",
    "    \n",
    "    layer_w4=tf.get_variable('layer_w4',[1024,1],initializer=truncated_normal_initializer(stddev=0.02))\n",
    "    layer_b4=tf.get_variable('layer_b4',[1],initializer=tf.constant_initializer(0)) \n",
    "                          \n",
    "    layer4=tf.matmul(layer3,layer_w4)+layer_b4\n",
    "                          \n",
    "    return layer4"
   ]
  },
  {
   "cell_type": "code",
   "execution_count": 11,
   "metadata": {},
   "outputs": [],
   "source": [
    "def generator(numberOfSongs,dimensions):\n",
    "    rand=tf.truncatied_normal([numberOfSongs,dimensions],mean=0,stddev=1,name='rand')\n",
    "    \n",
    "    layer_w1=tf.get_variable('layer_w1',[dimensions,3136],dtype=tf.float32,initializer=truncated_normal_initializer(stddev=0.02))\n",
    "    layer_b1=tf.get_variable('layer_b1',[3136],initializer=truncated_normal_initializer(stddev=0.02))\n",
    "    layer1=tf.matmul(rand,layer_w1)+layerb1\n",
    "    #number 56?\n",
    "    layer1=tf.reshape(layer1,[-1,56,56,56,1])\n",
    "    layer1=tf.contrib.layers.batch_norm(layer1,epsilon1e-5,scope='bn1')\n",
    "    layer1=tf.nn.relu(layer1)\n",
    "    \n",
    "    \n",
    "    #check numbers\n",
    "    layer_w2=tf.get_variable('layer_w2',[3,3,1,dimensions/2],dtype=tf.float32,initializer=truncated_normal_initializer(stddev=0.02))\n",
    "    layer_b2=tf.get_variable('layer_b2',[dimensions/2],initializer=truncated_normal_initializer(stddev=0.02))\n",
    "    layer2=tf.nn.conv2d(layer1,filter=layer_w2,strides=[1,2,2,1], padding='SAME')\n",
    "    layer2=layer2+layer_b2\n",
    "    #number 56?\n",
    "    layer2=tf.contrib.layers.batch_norm(layer1,epsilon1e-5.scope='bn2')\n",
    "    layer2=tf.nn.relu(layer2)\n",
    "    layer2=tf.image.resize_images(layer2,[56,56])\n",
    "    \n",
    "    layer_w3=tf.get_variable('layer_w3',[3,3,dimensions/2,dimensions/4],dtype=tf.float32,initializer=truncated_normal_initializer(stddev=0.02))\n",
    "    layer_b3=tf.get_variable('layer_b3',[dimensions/4],initializer=truncated_normal_initializer(stddev=0.02))\n",
    "    layer3=tf.nn.conv2d(layer2,filter=layer_w3,strides=[1,2,2,1], padding='SAME')\n",
    "    layer3=layer3+layer_b3\n",
    "    #number 56?\n",
    "    layer3=tf.contrib.layers.batch_norm(layer3,epsilon1e-5.scope='bn3')\n",
    "    layer3=tf.nn.relu(layer3)\n",
    "    layer3=tf.image.resize_images(layer3,[56,56])\n",
    "    \n",
    "    layer_w4=tf.get_variable('layer_w4',[1,1,dimensions/4,1],,dtype=tf.float32,initializer=truncated_normal_initializer(stddev=0.02))\n",
    "    layer_b4=tf.get_variable('layer_b4',[1],initializer=truncated_normal_initializer(stddev=0.02))\n",
    "    layer4=tf.nn.conv2d(layer3,filter=layer_w4,strides=[1,2,2,1], padding='SAME')\n",
    "    layer4=layer4+layer_b4\n",
    "    #number 56?\n",
    "    layer4=tf.sigmoid(layer4)\n",
    "    \n",
    "    return layer4"
   ]
  },
  {
   "cell_type": "code",
   "execution_count": null,
   "metadata": {},
   "outputs": [],
   "source": []
  }
 ],
 "metadata": {
  "kernelspec": {
   "display_name": "Python 3",
   "language": "python",
   "name": "python3"
  },
  "language_info": {
   "codemirror_mode": {
    "name": "ipython",
    "version": 3
   },
   "file_extension": ".py",
   "mimetype": "text/x-python",
   "name": "python",
   "nbconvert_exporter": "python",
   "pygments_lexer": "ipython3",
   "version": "3.7.3"
  }
 },
 "nbformat": 4,
 "nbformat_minor": 2
}
